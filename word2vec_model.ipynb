{
 "cells": [
  {
   "cell_type": "code",
   "execution_count": 1,
   "metadata": {
    "collapsed": false
   },
   "outputs": [],
   "source": [
    "from __future__ import division\n",
    "from sklearn.cross_validation import train_test_split\n",
    "from sklearn.ensemble import RandomForestClassifier\n",
    "from Word2VecUtility import Word2VecUtility\n",
    "import pickle\n",
    "import pandas as pd\n",
    "import numpy as np\n",
    "from gensim.models import word2vec\n",
    "import logging\n",
    "logging.basicConfig(format='%(asctime)s : %(levelname)s : %(message)s',\\\n",
    "    level=logging.INFO)"
   ]
  },
  {
   "cell_type": "code",
   "execution_count": 2,
   "metadata": {
    "collapsed": false
   },
   "outputs": [
    {
     "name": "stdout",
     "output_type": "stream",
     "text": [
      "\n",
      "The first review is:\n",
      "\n",
      "Mr Hoagie is an institution. Walking in, it does seem like a throwback to 30 years ago, old fashioned menu board, booths out of the 70s, and a large selection of food. Their speciality is the Italian Hoagie, and it is voted the best in the area year after year. I usually order the burger, while the patties are obviously cooked from frozen, all of the other ingredients are very fresh. Overall, its a good alternative to Subway, which is down the road. \n",
      "\n",
      "(5563019, 2)\n",
      "Index([u'stars', u'text'], dtype='object')\n"
     ]
    }
   ],
   "source": [
    "data = pd.read_csv('review.tsv', header=0, delimiter=\"\\t\", quoting=3)\n",
    "print '\\nThe first review is:\\n'\n",
    "print data[\"text\"][0], '\\n'\n",
    "print data.shape\n",
    "print data.columns"
   ]
  },
  {
   "cell_type": "code",
   "execution_count": 30,
   "metadata": {
    "collapsed": false
   },
   "outputs": [
    {
     "name": "stdout",
     "output_type": "stream",
     "text": [
      "0    4\n",
      "1    5\n",
      "2    5\n",
      "Name: stars, dtype: object\n",
      "\n",
      "0    Mr Hoagie is an institution. Walking in, it do...\n",
      "1    Excellent food. Superb customer service. I mis...\n",
      "2    Yes this place is a little out dated and not o...\n",
      "Name: text, dtype: object\n"
     ]
    }
   ],
   "source": [
    "print data['stars'][:3]\n",
    "print\n",
    "print data.ix[:2]['text']"
   ]
  },
  {
   "cell_type": "code",
   "execution_count": 3,
   "metadata": {
    "collapsed": false
   },
   "outputs": [
    {
     "name": "stdout",
     "output_type": "stream",
     "text": [
      "Int64Index([4794955, 1892608, 3999307, 2154843,  761508, 3494804, 1473565,\n",
      "             863959, 2619903, 4163736,\n",
      "            ...\n",
      "            2500699,   49075, 1876586, 2436708, 3048511, 2531670, 2027150,\n",
      "            1261754, 2247496, 2453123],\n",
      "           dtype='int64', length=399850)\n"
     ]
    }
   ],
   "source": [
    "\n",
    "size = 1000000 #80000\n",
    "subdata = data.sample(n = size, random_state=520)\n",
    "subdata = subdata[pd.notnull(subdata['text'])]\n",
    "print subdata.index\n",
    "subdata.to_csv('review_sub_399850.tsv', index=False, quoting=3, sep='\\t', encoding='utf-8')"
   ]
  },
  {
   "cell_type": "code",
   "execution_count": 4,
   "metadata": {
    "collapsed": true
   },
   "outputs": [],
   "source": [
    "del(data)\n",
    "data = subdata\n",
    "del(subdata)"
   ]
  },
  {
   "cell_type": "code",
   "execution_count": 6,
   "metadata": {
    "collapsed": false
   },
   "outputs": [],
   "source": [
    "data = pd.read_csv('review_sub_399850.tsv', header=0, delimiter=\"\\t\", quoting=3, encoding='utf-8')"
   ]
  },
  {
   "cell_type": "code",
   "execution_count": 5,
   "metadata": {
    "collapsed": false
   },
   "outputs": [
    {
     "name": "stdout",
     "output_type": "stream",
     "text": [
      "(399850, 2)\n",
      "Index([u'stars', u'text'], dtype='object')\n",
      "Int64Index([4794955, 1892608, 3999307, 2154843,  761508, 3494804, 1473565,\n",
      "             863959, 2619903, 4163736,\n",
      "            ...\n",
      "            2500699,   49075, 1876586, 2436708, 3048511, 2531670, 2027150,\n",
      "            1261754, 2247496, 2453123],\n",
      "           dtype='int64', length=399850)\n",
      "        stars                                               text\n",
      "4794955     5  I've been going there for about a year, mostly...\n",
      "1892608     3  This place is fine, not great, just fine.  I l...\n",
      "3999307     4  Had my best Phoenix massage since we moved to ...\n",
      "2154843     1  \"Don't use them for an airport shuttle, PERIOD...\n",
      "761508      5  If you life Thai Food, you definitely love thi...\n"
     ]
    }
   ],
   "source": [
    "print data.shape\n",
    "print data.columns\n",
    "print data.index\n",
    "# only after to_csv without index, and read_csv back to data, can you use ix[5]\n",
    "# print data.ix[:5]['text']\n",
    "# if you want to index dataframe directly after sampled it. use iloc\n",
    "print data.iloc[:5]"
   ]
  },
  {
   "cell_type": "code",
   "execution_count": 6,
   "metadata": {
    "collapsed": false
   },
   "outputs": [],
   "source": [
    "import nltk.data\n",
    "tokenizer = nltk.data.load('tokenizers/punkt/english.pickle')"
   ]
  },
  {
   "cell_type": "code",
   "execution_count": 7,
   "metadata": {
    "collapsed": false
   },
   "outputs": [
    {
     "name": "stdout",
     "output_type": "stream",
     "text": [
      "4794955    I've been going there for about a year, mostly...\n",
      "1892608    This place is fine, not great, just fine.  I l...\n",
      "3999307    Had my best Phoenix massage since we moved to ...\n",
      "2154843    \"Don't use them for an airport shuttle, PERIOD...\n",
      "761508     If you life Thai Food, you definitely love thi...\n",
      "3494804    \"Not a huge fan of the flavors here ... or the...\n",
      "1473565    \"I had one of my best dining experiences in La...\n",
      "863959     \"About five years ago I took my vehicle to Aut...\n",
      "2619903    \"Still an amazing place to come for Vegetarian...\n",
      "4163736    \"This past January I ran the P.F. Chang's Half...\n",
      "Name: text, dtype: object\n"
     ]
    }
   ],
   "source": [
    "# print data.ix[0:10]\n",
    "print data.iloc[:10]['text']\n",
    "# print data['text'][2]"
   ]
  },
  {
   "cell_type": "code",
   "execution_count": 8,
   "metadata": {
    "collapsed": false
   },
   "outputs": [
    {
     "name": "stderr",
     "output_type": "stream",
     "text": [
      "/Users/apple/miniconda/lib/python2.7/site-packages/bs4/__init__.py:198: UserWarning: \".\" looks like a filename, not markup. You should probably open this file and pass the filehandle into Beautiful Soup.\n",
      "  '\"%s\" looks like a filename, not markup. You should probably open this file and pass the filehandle into Beautiful Soup.' % markup)\n",
      "/Users/apple/miniconda/lib/python2.7/site-packages/bs4/__init__.py:207: UserWarning: \"http://oinkety.com/?p=2448\" looks like a URL. Beautiful Soup is not an HTTP client. You should probably use an HTTP client to get the document behind the URL, and feed that document to Beautiful Soup.\n",
      "  '\"%s\" looks like a URL. Beautiful Soup is not an HTTP client. You should probably use an HTTP client to get the document behind the URL, and feed that document to Beautiful Soup.' % markup)\n",
      "/Users/apple/miniconda/lib/python2.7/site-packages/bs4/__init__.py:198: UserWarning: \"..\" looks like a filename, not markup. You should probably open this file and pass the filehandle into Beautiful Soup.\n",
      "  '\"%s\" looks like a filename, not markup. You should probably open this file and pass the filehandle into Beautiful Soup.' % markup)\n",
      "/Users/apple/miniconda/lib/python2.7/site-packages/bs4/__init__.py:207: UserWarning: \"http://www.youtube.com/watch?v=ZVsUb5vHFeE\" looks like a URL. Beautiful Soup is not an HTTP client. You should probably use an HTTP client to get the document behind the URL, and feed that document to Beautiful Soup.\n",
      "  '\"%s\" looks like a URL. Beautiful Soup is not an HTTP client. You should probably use an HTTP client to get the document behind the URL, and feed that document to Beautiful Soup.' % markup)\n",
      "/Users/apple/miniconda/lib/python2.7/site-packages/bs4/__init__.py:207: UserWarning: \"https://www.reddit.com/r/bicycling412/comments/2yfxv6/\" looks like a URL. Beautiful Soup is not an HTTP client. You should probably use an HTTP client to get the document behind the URL, and feed that document to Beautiful Soup.\n",
      "  '\"%s\" looks like a URL. Beautiful Soup is not an HTTP client. You should probably use an HTTP client to get the document behind the URL, and feed that document to Beautiful Soup.' % markup)\n",
      "/Users/apple/miniconda/lib/python2.7/site-packages/bs4/__init__.py:207: UserWarning: \"http://www.youtube.com/watch?v=kwGql-FyXjE&feature=youtu.be\" looks like a URL. Beautiful Soup is not an HTTP client. You should probably use an HTTP client to get the document behind the URL, and feed that document to Beautiful Soup.\n",
      "  '\"%s\" looks like a URL. Beautiful Soup is not an HTTP client. You should probably use an HTTP client to get the document behind the URL, and feed that document to Beautiful Soup.' % markup)\n",
      "/Users/apple/miniconda/lib/python2.7/site-packages/bs4/__init__.py:207: UserWarning: \"http://cinematreasures.org/news/26155_0_1_0_M/\" looks like a URL. Beautiful Soup is not an HTTP client. You should probably use an HTTP client to get the document behind the URL, and feed that document to Beautiful Soup.\n",
      "  '\"%s\" looks like a URL. Beautiful Soup is not an HTTP client. You should probably use an HTTP client to get the document behind the URL, and feed that document to Beautiful Soup.' % markup)\n",
      "/Users/apple/miniconda/lib/python2.7/site-packages/bs4/__init__.py:207: UserWarning: \"http://www.yelp.com/biz_photos/mix-las-vegas#qWfPRp-VH7u53bmJ3Pgvrg\" looks like a URL. Beautiful Soup is not an HTTP client. You should probably use an HTTP client to get the document behind the URL, and feed that document to Beautiful Soup.\n",
      "  '\"%s\" looks like a URL. Beautiful Soup is not an HTTP client. You should probably use an HTTP client to get the document behind the URL, and feed that document to Beautiful Soup.' % markup)\n",
      "/Users/apple/miniconda/lib/python2.7/site-packages/bs4/__init__.py:207: UserWarning: \"http://www.salvagesisterandmister.com/pizzzzzzzzzzzzzzzzzzza/\" looks like a URL. Beautiful Soup is not an HTTP client. You should probably use an HTTP client to get the document behind the URL, and feed that document to Beautiful Soup.\n",
      "  '\"%s\" looks like a URL. Beautiful Soup is not an HTTP client. You should probably use an HTTP client to get the document behind the URL, and feed that document to Beautiful Soup.' % markup)\n",
      "/Users/apple/miniconda/lib/python2.7/site-packages/bs4/__init__.py:207: UserWarning: \"http://www.youtube.com/watch?v=NelL0lSW4sM&feature=share&list=UUHxCm8yARmGL1AtxOC4VkAw\" looks like a URL. Beautiful Soup is not an HTTP client. You should probably use an HTTP client to get the document behind the URL, and feed that document to Beautiful Soup.\n",
      "  '\"%s\" looks like a URL. Beautiful Soup is not an HTTP client. You should probably use an HTTP client to get the document behind the URL, and feed that document to Beautiful Soup.' % markup)\n",
      "/Users/apple/miniconda/lib/python2.7/site-packages/bs4/__init__.py:207: UserWarning: \"http://eatmoretacos.com/\" looks like a URL. Beautiful Soup is not an HTTP client. You should probably use an HTTP client to get the document behind the URL, and feed that document to Beautiful Soup.\n",
      "  '\"%s\" looks like a URL. Beautiful Soup is not an HTTP client. You should probably use an HTTP client to get the document behind the URL, and feed that document to Beautiful Soup.' % markup)\n",
      "/Users/apple/miniconda/lib/python2.7/site-packages/bs4/__init__.py:207: UserWarning: \"http://pizzabystumpys.com/\" looks like a URL. Beautiful Soup is not an HTTP client. You should probably use an HTTP client to get the document behind the URL, and feed that document to Beautiful Soup.\n",
      "  '\"%s\" looks like a URL. Beautiful Soup is not an HTTP client. You should probably use an HTTP client to get the document behind the URL, and feed that document to Beautiful Soup.' % markup)\n",
      "/Users/apple/miniconda/lib/python2.7/site-packages/bs4/__init__.py:207: UserWarning: \"https://www.facebook.com/TheOriginalChoppedSalad\" looks like a URL. Beautiful Soup is not an HTTP client. You should probably use an HTTP client to get the document behind the URL, and feed that document to Beautiful Soup.\n",
      "  '\"%s\" looks like a URL. Beautiful Soup is not an HTTP client. You should probably use an HTTP client to get the document behind the URL, and feed that document to Beautiful Soup.' % markup)\n",
      "/Users/apple/miniconda/lib/python2.7/site-packages/bs4/__init__.py:207: UserWarning: \"http://www.fuistetravels.com/wanderings/windcavetrail\" looks like a URL. Beautiful Soup is not an HTTP client. You should probably use an HTTP client to get the document behind the URL, and feed that document to Beautiful Soup.\n",
      "  '\"%s\" looks like a URL. Beautiful Soup is not an HTTP client. You should probably use an HTTP client to get the document behind the URL, and feed that document to Beautiful Soup.' % markup)\n",
      "/Users/apple/miniconda/lib/python2.7/site-packages/bs4/__init__.py:207: UserWarning: \"http://www.phoenixnewtimes.com/2013-06-06/restaurants/karaikudi-palace-in-scottsdale-a-taste-of-south-india/\" looks like a URL. Beautiful Soup is not an HTTP client. You should probably use an HTTP client to get the document behind the URL, and feed that document to Beautiful Soup.\n",
      "  '\"%s\" looks like a URL. Beautiful Soup is not an HTTP client. You should probably use an HTTP client to get the document behind the URL, and feed that document to Beautiful Soup.' % markup)\n",
      "/Users/apple/miniconda/lib/python2.7/site-packages/bs4/__init__.py:207: UserWarning: \"http://www.yelp.ca/topic/montreal-pop-montreal\" looks like a URL. Beautiful Soup is not an HTTP client. You should probably use an HTTP client to get the document behind the URL, and feed that document to Beautiful Soup.\n",
      "  '\"%s\" looks like a URL. Beautiful Soup is not an HTTP client. You should probably use an HTTP client to get the document behind the URL, and feed that document to Beautiful Soup.' % markup)\n",
      "/Users/apple/miniconda/lib/python2.7/site-packages/bs4/__init__.py:207: UserWarning: \"http://www.gpsdc.com/July4thMenu.htm\" looks like a URL. Beautiful Soup is not an HTTP client. You should probably use an HTTP client to get the document behind the URL, and feed that document to Beautiful Soup.\n",
      "  '\"%s\" looks like a URL. Beautiful Soup is not an HTTP client. You should probably use an HTTP client to get the document behind the URL, and feed that document to Beautiful Soup.' % markup)\n",
      "/Users/apple/miniconda/lib/python2.7/site-packages/bs4/__init__.py:207: UserWarning: \"http://bestoflasvegas.com/vote/Arts-and-Entertainment/Movie-Theater\" looks like a URL. Beautiful Soup is not an HTTP client. You should probably use an HTTP client to get the document behind the URL, and feed that document to Beautiful Soup.\n",
      "  '\"%s\" looks like a URL. Beautiful Soup is not an HTTP client. You should probably use an HTTP client to get the document behind the URL, and feed that document to Beautiful Soup.' % markup)\n",
      "/Users/apple/miniconda/lib/python2.7/site-packages/bs4/__init__.py:207: UserWarning: \"http://montreal.ctvnews.ca/exclusive-employees-at-iga-franchise-told-they-can-t-speak-english-to-each-other-1.1343299\" looks like a URL. Beautiful Soup is not an HTTP client. You should probably use an HTTP client to get the document behind the URL, and feed that document to Beautiful Soup.\n",
      "  '\"%s\" looks like a URL. Beautiful Soup is not an HTTP client. You should probably use an HTTP client to get the document behind the URL, and feed that document to Beautiful Soup.' % markup)\n",
      "/Users/apple/miniconda/lib/python2.7/site-packages/bs4/__init__.py:198: UserWarning: \"/\" looks like a filename, not markup. You should probably open this file and pass the filehandle into Beautiful Soup.\n",
      "  '\"%s\" looks like a filename, not markup. You should probably open this file and pass the filehandle into Beautiful Soup.' % markup)\n",
      "/Users/apple/miniconda/lib/python2.7/site-packages/bs4/__init__.py:207: UserWarning: \"http://www.bellagio.com/files/restaurants/menu-sensi-tasting.pdf\" looks like a URL. Beautiful Soup is not an HTTP client. You should probably use an HTTP client to get the document behind the URL, and feed that document to Beautiful Soup.\n",
      "  '\"%s\" looks like a URL. Beautiful Soup is not an HTTP client. You should probably use an HTTP client to get the document behind the URL, and feed that document to Beautiful Soup.' % markup)\n",
      "/Users/apple/miniconda/lib/python2.7/site-packages/bs4/__init__.py:207: UserWarning: \"http://sydneyd.com\" looks like a URL. Beautiful Soup is not an HTTP client. You should probably use an HTTP client to get the document behind the URL, and feed that document to Beautiful Soup.\n",
      "  '\"%s\" looks like a URL. Beautiful Soup is not an HTTP client. You should probably use an HTTP client to get the document behind the URL, and feed that document to Beautiful Soup.' % markup)\n",
      "/Users/apple/miniconda/lib/python2.7/site-packages/bs4/__init__.py:207: UserWarning: \"http://s32.photobucket.com/albums/d36/ksguy/Recon%20Mobile%20Bumper%20Repair/\" looks like a URL. Beautiful Soup is not an HTTP client. You should probably use an HTTP client to get the document behind the URL, and feed that document to Beautiful Soup.\n",
      "  '\"%s\" looks like a URL. Beautiful Soup is not an HTTP client. You should probably use an HTTP client to get the document behind the URL, and feed that document to Beautiful Soup.' % markup)\n",
      "/Users/apple/miniconda/lib/python2.7/site-packages/bs4/__init__.py:207: UserWarning: \"http://vegas.eater.com/archives/2014/09/05/japanese-fave-ichiza-shut-down-yet-again-by-snhd.php\" looks like a URL. Beautiful Soup is not an HTTP client. You should probably use an HTTP client to get the document behind the URL, and feed that document to Beautiful Soup.\n",
      "  '\"%s\" looks like a URL. Beautiful Soup is not an HTTP client. You should probably use an HTTP client to get the document behind the URL, and feed that document to Beautiful Soup.' % markup)\n",
      "/Users/apple/miniconda/lib/python2.7/site-packages/bs4/__init__.py:207: UserWarning: \"http://www.yelp.com/biz_photos/BCAw9a_kyx2RddRH9tMmKQ#CPfTBp4QhCCb4qH0zj-ohA\" looks like a URL. Beautiful Soup is not an HTTP client. You should probably use an HTTP client to get the document behind the URL, and feed that document to Beautiful Soup.\n",
      "  '\"%s\" looks like a URL. Beautiful Soup is not an HTTP client. You should probably use an HTTP client to get the document behind the URL, and feed that document to Beautiful Soup.' % markup)\n",
      "/Users/apple/miniconda/lib/python2.7/site-packages/bs4/__init__.py:207: UserWarning: \"http://www.yelp.com/user_local_photos?select=6Bes4Ja9v-V4abG_lH53ag&userid=JM0GL6Dx4EuZ1mprLk5Gyg\" looks like a URL. Beautiful Soup is not an HTTP client. You should probably use an HTTP client to get the document behind the URL, and feed that document to Beautiful Soup.\n",
      "  '\"%s\" looks like a URL. Beautiful Soup is not an HTTP client. You should probably use an HTTP client to get the document behind the URL, and feed that document to Beautiful Soup.' % markup)\n",
      "/Users/apple/miniconda/lib/python2.7/site-packages/bs4/__init__.py:207: UserWarning: \"http://tinyurl.com/4zcfbaq\" looks like a URL. Beautiful Soup is not an HTTP client. You should probably use an HTTP client to get the document behind the URL, and feed that document to Beautiful Soup.\n",
      "  '\"%s\" looks like a URL. Beautiful Soup is not an HTTP client. You should probably use an HTTP client to get the document behind the URL, and feed that document to Beautiful Soup.' % markup)\n",
      "/Users/apple/miniconda/lib/python2.7/site-packages/bs4/__init__.py:207: UserWarning: \"http://www.yelp.com/biz_photos/changing-hands-bookstore-tempe-2?select=r61c1k4z8nqYhJopOUX-NA#r61c1k4z8nqYhJopOUX-NA\" looks like a URL. Beautiful Soup is not an HTTP client. You should probably use an HTTP client to get the document behind the URL, and feed that document to Beautiful Soup.\n",
      "  '\"%s\" looks like a URL. Beautiful Soup is not an HTTP client. You should probably use an HTTP client to get the document behind the URL, and feed that document to Beautiful Soup.' % markup)\n",
      "/Users/apple/miniconda/lib/python2.7/site-packages/bs4/__init__.py:207: UserWarning: \"http://bit.ly/SF2-1TR\" looks like a URL. Beautiful Soup is not an HTTP client. You should probably use an HTTP client to get the document behind the URL, and feed that document to Beautiful Soup.\n",
      "  '\"%s\" looks like a URL. Beautiful Soup is not an HTTP client. You should probably use an HTTP client to get the document behind the URL, and feed that document to Beautiful Soup.' % markup)\n",
      "/Users/apple/miniconda/lib/python2.7/site-packages/bs4/__init__.py:207: UserWarning: \"http://www.yelp.com/biz_photos/qWt3SFI5Eg5zX8QDprvgrw?select=KZQAQH_LuUDdqasrP2bslA\" looks like a URL. Beautiful Soup is not an HTTP client. You should probably use an HTTP client to get the document behind the URL, and feed that document to Beautiful Soup.\n",
      "  '\"%s\" looks like a URL. Beautiful Soup is not an HTTP client. You should probably use an HTTP client to get the document behind the URL, and feed that document to Beautiful Soup.' % markup)\n",
      "/Users/apple/miniconda/lib/python2.7/site-packages/bs4/__init__.py:207: UserWarning: \"http://www.yelp.com/biz_photos/r64n5_4dwTJ-qHZJgJGz1w?userid=fDny65qdxn3EJH0PZbCxIw\" looks like a URL. Beautiful Soup is not an HTTP client. You should probably use an HTTP client to get the document behind the URL, and feed that document to Beautiful Soup.\n",
      "  '\"%s\" looks like a URL. Beautiful Soup is not an HTTP client. You should probably use an HTTP client to get the document behind the URL, and feed that document to Beautiful Soup.' % markup)\n",
      "/Users/apple/miniconda/lib/python2.7/site-packages/bs4/__init__.py:207: UserWarning: \"http://lv.houseseats.com/\" looks like a URL. Beautiful Soup is not an HTTP client. You should probably use an HTTP client to get the document behind the URL, and feed that document to Beautiful Soup.\n",
      "  '\"%s\" looks like a URL. Beautiful Soup is not an HTTP client. You should probably use an HTTP client to get the document behind the URL, and feed that document to Beautiful Soup.' % markup)\n",
      "/Users/apple/miniconda/lib/python2.7/site-packages/bs4/__init__.py:207: UserWarning: \"http://www.youtube.com/watch?v=JyioBGi083o\" looks like a URL. Beautiful Soup is not an HTTP client. You should probably use an HTTP client to get the document behind the URL, and feed that document to Beautiful Soup.\n",
      "  '\"%s\" looks like a URL. Beautiful Soup is not an HTTP client. You should probably use an HTTP client to get the document behind the URL, and feed that document to Beautiful Soup.' % markup)\n",
      "/Users/apple/miniconda/lib/python2.7/site-packages/bs4/__init__.py:207: UserWarning: \"https://www.lyft.com/invited/FLYGUY\" looks like a URL. Beautiful Soup is not an HTTP client. You should probably use an HTTP client to get the document behind the URL, and feed that document to Beautiful Soup.\n",
      "  '\"%s\" looks like a URL. Beautiful Soup is not an HTTP client. You should probably use an HTTP client to get the document behind the URL, and feed that document to Beautiful Soup.' % markup)\n"
     ]
    },
    {
     "name": "stdout",
     "output_type": "stream",
     "text": [
      "Cleaning and parsing the reviews...\n",
      "\n"
     ]
    }
   ],
   "source": [
    "review_sents = []\n",
    "print \"Cleaning and parsing the reviews...\\n\"\n",
    "for i in xrange( 0, len(data[\"text\"])):\n",
    "    # sent_reviews += Word2VecUtility.review_to_sentences(data[\"text\"][i], tokenizer)\n",
    "    review_sents += Word2VecUtility.review_to_sentences(data.iloc[i][\"text\"], tokenizer)\n",
    "    "
   ]
  },
  {
   "cell_type": "code",
   "execution_count": 53,
   "metadata": {
    "collapsed": true
   },
   "outputs": [],
   "source": [
    "out = open('review_sents_1859888.pkl', 'wb')\n",
    "pickle.dump(review_sents, out)\n",
    "out.close()"
   ]
  },
  {
   "cell_type": "code",
   "execution_count": 11,
   "metadata": {
    "collapsed": false
   },
   "outputs": [
    {
     "name": "stdout",
     "output_type": "stream",
     "text": [
      "1859859\n",
      "[[u'i', u've', u'been', u'going', u'there', u'for', u'about', u'a', u'year', u'mostly', u'for', u'b', u'shots'], [u'the', u'people', u'are', u'great', u'and', u'very', u'accommodating'], [u'never', u'have', u'to', u'wait'], [u'the', u'new', u'location', u'is', u'not', u'as', u'convenient', u'but', u'i', u'plan', u'on', u'continuing', u'to', u'go', u'there'], [u'this', u'place', u'is', u'fine', u'not', u'great', u'just', u'fine']]\n"
     ]
    }
   ],
   "source": [
    "# review_sents = pickle.load(open('review_sents_1859888.pkl', 'rb'))\n",
    "print len(review_sents)\n",
    "print review_sents[:5]"
   ]
  },
  {
   "cell_type": "code",
   "execution_count": 57,
   "metadata": {
    "collapsed": false
   },
   "outputs": [
    {
     "name": "stdout",
     "output_type": "stream",
     "text": [
      "Training model...\n"
     ]
    }
   ],
   "source": [
    "# Set values for various parameters\n",
    "num_features = 300    # Word vector dimensionality                      \n",
    "min_word_count = 40   # Minimum word count                        \n",
    "num_workers = 4       # Number of threads to run in parallel\n",
    "context = 10          # Context window size                                                                                    \n",
    "downsampling = 1e-3   # Downsample setting for frequent words\n",
    "\n",
    "# Initialize and train the model (this will take some time)\n",
    "print \"Training model...\"\n",
    "model = word2vec.Word2Vec(review_sents, workers=num_workers, \\\n",
    "            size=num_features, min_count = min_word_count, \\\n",
    "            window = context, sample = downsampling)\n"
   ]
  },
  {
   "cell_type": "code",
   "execution_count": 58,
   "metadata": {
    "collapsed": true
   },
   "outputs": [],
   "source": [
    "# If you don't plan to train the model any further, calling \n",
    "# init_sims will make the model much more memory-efficient.\n",
    "model.init_sims(replace=True)\n",
    "\n",
    "# It can be helpful to create a meaningful model name and \n",
    "# save the model for later use. You can load it later using Word2Vec.load()\n",
    "model_name = \"300features_40minwords_10context\"\n",
    "model.save(model_name)"
   ]
  },
  {
   "cell_type": "code",
   "execution_count": null,
   "metadata": {
    "collapsed": true
   },
   "outputs": [],
   "source": [
    "model = word2vec.Word2Vec.load(\"300features_40minwords_10context\")"
   ]
  },
  {
   "cell_type": "code",
   "execution_count": 71,
   "metadata": {
    "collapsed": false
   },
   "outputs": [
    {
     "data": {
      "text/plain": [
       "'kitchen'"
      ]
     },
     "execution_count": 71,
     "metadata": {},
     "output_type": "execute_result"
    }
   ],
   "source": [
    "model.doesnt_match(\"man woman child kitchen\".split())"
   ]
  },
  {
   "cell_type": "code",
   "execution_count": 70,
   "metadata": {
    "collapsed": false
   },
   "outputs": [
    {
     "data": {
      "text/plain": [
       "'restaurant'"
      ]
     },
     "execution_count": 70,
     "metadata": {},
     "output_type": "execute_result"
    }
   ],
   "source": [
    "model.doesnt_match(\"coffee tea juice restaurant\".split())"
   ]
  },
  {
   "cell_type": "code",
   "execution_count": 4,
   "metadata": {
    "collapsed": false
   },
   "outputs": [
    {
     "data": {
      "text/plain": [
       "[(u'delish', 0.7754588723182678),\n",
       " (u'tasty', 0.7434055805206299),\n",
       " (u'yummy', 0.7149284482002258),\n",
       " (u'scrumptious', 0.6782612800598145),\n",
       " (u'flavorful', 0.6213445663452148),\n",
       " (u'divine', 0.6012349724769592),\n",
       " (u'tastey', 0.5901238918304443),\n",
       " (u'delicous', 0.587270200252533),\n",
       " (u'mouthwatering', 0.5798896551132202),\n",
       " (u'devine', 0.5537630319595337)]"
      ]
     },
     "execution_count": 4,
     "metadata": {},
     "output_type": "execute_result"
    }
   ],
   "source": [
    "model.most_similar(\"delicious\")"
   ]
  },
  {
   "cell_type": "code",
   "execution_count": 5,
   "metadata": {
    "collapsed": false
   },
   "outputs": [
    {
     "data": {
      "text/plain": [
       "[(u'mexican', 0.7112151384353638),\n",
       " (u'cantonese', 0.6801303029060364),\n",
       " (u'asian', 0.6524285078048706),\n",
       " (u'japanese', 0.6484655141830444),\n",
       " (u'americanized', 0.6477989554405212),\n",
       " (u'indian', 0.6398634910583496),\n",
       " (u'filipino', 0.6290761232376099),\n",
       " (u'vietnamese', 0.6171532869338989),\n",
       " (u'korean', 0.6015596389770508),\n",
       " (u'lebanese', 0.5581501722335815)]"
      ]
     },
     "execution_count": 5,
     "metadata": {},
     "output_type": "execute_result"
    }
   ],
   "source": [
    "model.most_similar(\"chinese\")"
   ]
  },
  {
   "cell_type": "code",
   "execution_count": 6,
   "metadata": {
    "collapsed": false
   },
   "outputs": [
    {
     "name": "stdout",
     "output_type": "stream",
     "text": [
      "[-0.09085934 -0.04050202 -0.07604051 -0.02878256 -0.03832901  0.04651292\n",
      " -0.08233552 -0.06436986 -0.006646    0.01952864 -0.10288478 -0.03497215\n",
      " -0.04002167 -0.0277764  -0.03175622  0.0141541   0.06412307  0.0514068\n",
      " -0.04425988 -0.01241343 -0.00785599 -0.0206115   0.03097875 -0.01636746\n",
      "  0.12936752 -0.04187576 -0.04594978  0.0632828  -0.0185187  -0.03435634\n",
      "  0.02050968 -0.00153008  0.04422459  0.08578489  0.0569248  -0.13749051\n",
      "  0.07906641 -0.08986761 -0.06780145  0.03066873 -0.07235949  0.00491482\n",
      " -0.05130845 -0.03616726  0.02364809  0.00438806  0.03820136 -0.02138964\n",
      "  0.01468734  0.0239164   0.06650317 -0.01117458  0.08711758  0.02350685\n",
      "  0.00737275 -0.03050523  0.01972778 -0.00599776  0.00697179  0.03140137\n",
      "  0.01172278 -0.00411805 -0.09804209 -0.06642748 -0.01673794  0.04739327\n",
      " -0.00381328 -0.10510307 -0.06244999 -0.03497938 -0.02515736 -0.05637315\n",
      " -0.03300777 -0.02991769 -0.00337767  0.01365327  0.03197937 -0.01513318\n",
      " -0.00577635 -0.00223164 -0.04746583  0.02690253 -0.01221982  0.00873462\n",
      "  0.02593678 -0.01298416  0.03521911 -0.01153397 -0.0180837   0.19437511\n",
      "  0.07214894  0.0191956   0.01476469 -0.12907593 -0.01212172  0.03786235\n",
      "  0.0190078   0.02728468  0.02551379  0.00874735  0.02364352 -0.05328384\n",
      "  0.04863269  0.12145241 -0.01912275  0.00469045  0.0606837  -0.05783218\n",
      " -0.00574705  0.06287996 -0.01838772  0.04039203 -0.05672992 -0.01512217\n",
      " -0.00257998  0.03880896 -0.05094773 -0.02234471 -0.0101133   0.06988217\n",
      " -0.07711124 -0.04651542 -0.01086473  0.12196324 -0.06704399  0.00697516\n",
      " -0.048647   -0.0259877   0.07690135  0.06530562 -0.09058807  0.08880168\n",
      " -0.03158594 -0.02760033  0.02793602 -0.02565172  0.06985817  0.10143013\n",
      "  0.07203253 -0.02400441 -0.01870823  0.02618405  0.06419723  0.06780434\n",
      "  0.02404639 -0.01851569  0.00811303  0.01423165  0.02782483  0.05012083\n",
      "  0.05280148 -0.09563148  0.0434398   0.02146245 -0.01855817 -0.0173738\n",
      "  0.07151752 -0.03521181 -0.02936102  0.01273108  0.04211192  0.00988951\n",
      "  0.11457489  0.03447227  0.03735168 -0.09684919  0.00257806 -0.09837919\n",
      " -0.00097418 -0.01557509 -0.04510913  0.08372375 -0.01635526  0.10140619\n",
      " -0.13361511 -0.02750501 -0.08441713  0.01672048 -0.00660872  0.00829647\n",
      " -0.0281041   0.01076135  0.00046972 -0.06391156 -0.05648893 -0.0850139\n",
      "  0.06795205  0.10212228 -0.02036593 -0.01175962  0.00721332 -0.00237448\n",
      "  0.11135048 -0.09262906  0.09503172  0.01378813  0.11511543 -0.02581553\n",
      "  0.01192933  0.02188368 -0.01705039  0.07703491  0.02277727  0.00582705\n",
      " -0.07017894 -0.07617793  0.04443178 -0.0521546   0.0353219   0.05361279\n",
      " -0.02656942  0.01532776 -0.03446891 -0.01847338 -0.07524516  0.05025817\n",
      " -0.09387384 -0.05220094  0.00103038  0.04862991 -0.15522934 -0.05111457\n",
      "  0.09838269 -0.02504948  0.05110523  0.1032243  -0.06817696 -0.04459864\n",
      " -0.01139168 -0.0697358  -0.01057485 -0.01302617  0.03544144  0.01298461\n",
      " -0.04073605  0.08345529  0.07624066  0.09410781 -0.01756834  0.08591017\n",
      "  0.0392493  -0.03339985  0.06212961 -0.11667953 -0.02196945 -0.00998627\n",
      "  0.03804541  0.01198692 -0.09078339  0.00712901 -0.0563237  -0.05370563\n",
      "  0.08309761  0.05206729 -0.04540391  0.02631334 -0.00429622 -0.11247702\n",
      " -0.10659108  0.008087   -0.07673101 -0.06894144 -0.06808041  0.00093352\n",
      " -0.1679322  -0.02717449  0.03608102 -0.07517123  0.00114856  0.02856596\n",
      " -0.02516653 -0.02587932 -0.10417227 -0.05486893  0.01422467  0.10518625\n",
      "  0.14748152 -0.02123361  0.145761    0.06357961 -0.01562561  0.06651055\n",
      " -0.04852806 -0.05579144  0.01395309 -0.03206687 -0.00442388 -0.08798324\n",
      "  0.01627165 -0.08187773  0.06859025  0.02167492 -0.01108429  0.03047448\n",
      "  0.13988569  0.03800683  0.04920618 -0.02150288  0.00588878  0.06126343]\n",
      "(12597, 300)\n"
     ]
    }
   ],
   "source": [
    "print model[\"chinese\"]\n",
    "print model.syn0.shape"
   ]
  },
  {
   "cell_type": "code",
   "execution_count": 15,
   "metadata": {
    "collapsed": false
   },
   "outputs": [
    {
     "name": "stdout",
     "output_type": "stream",
     "text": [
      "<type 'list'>\n",
      "12597\n",
      "[u'the', u'and', u'i', u'a', u'to', u'was', u'it', u'of', u'is', u'for', u'in', u'my', u'this', u'we', u'that', u'they', u'you', u'with', u'but', u'on', u'have', u't', u'had', u's', u'place', u'not', u'so', u'food', u'at', u'are', u'great', u'good', u'were', u'here', u'very', u'be', u'there', u'as', u'me', u'service', u'all', u'out', u'time', u'like', u'just', u'if', u'our', u'one', u'get', u'from', u'when', u'go', u'their', u'back', u'can', u'been', u'would', u'up', u'about', u'really', u'an', u'or', u'will', u'what', u'he', u've', u'best', u'love', u'she', u'only', u'no', u'some', u'which', u'by', u'your', u'nice', u'always', u'because', u'got', u'more', u'us', u'them', u'has', u'also', u'even', u'm', u'after', u'staff', u'went', u'don', u'other', u'first', u'do', u'friendly', u'well', u'too', u'restaurant', u'never', u'vegas', u'did']\n",
      "12597\n"
     ]
    }
   ],
   "source": [
    "review_words = []\n",
    "print type(model.index2word)\n",
    "print len(model.index2word)\n",
    "print model.index2word[:100]\n",
    "index2word_set = set(model.index2word)\n",
    "print len(index2word_set)"
   ]
  },
  {
   "cell_type": "code",
   "execution_count": 16,
   "metadata": {
    "collapsed": false
   },
   "outputs": [
    {
     "name": "stdout",
     "output_type": "stream",
     "text": [
      "[u'i', u've', u'been', u'going', u'there', u'for', u'about', u'a', u'year', u'mostly', u'for', u'b', u'shots', u'the', u'people', u'are', u'great', u'and', u'very', u'accommodating', u'never', u'have', u'to', u'wait', u'the', u'new', u'location', u'is', u'not', u'as', u'convenient', u'but', u'i', u'plan', u'on', u'continuing', u'to', u'go', u'there']\n",
      "True\n",
      "True\n",
      "True\n",
      "True\n",
      "True\n",
      "True\n",
      "True\n",
      "True\n",
      "True\n",
      "True\n",
      "True\n",
      "True\n",
      "True\n",
      "True\n",
      "True\n",
      "True\n",
      "True\n",
      "True\n",
      "True\n",
      "True\n",
      "True\n",
      "True\n",
      "True\n",
      "True\n",
      "True\n",
      "True\n",
      "True\n",
      "True\n",
      "True\n",
      "True\n",
      "True\n",
      "True\n",
      "True\n",
      "True\n",
      "True\n",
      "True\n",
      "True\n",
      "True\n",
      "True\n"
     ]
    }
   ],
   "source": [
    "words = Word2VecUtility.review_to_wordlist(data.iloc[0]['text'])\n",
    "print words\n",
    "for word in words:\n",
    "    print word in index2word_set"
   ]
  },
  {
   "cell_type": "code",
   "execution_count": 8,
   "metadata": {
    "collapsed": false
   },
   "outputs": [
    {
     "name": "stdout",
     "output_type": "stream",
     "text": [
      "[5 3 4 1 5 2 5 4 4 4] (399850,)\n",
      "[1 0 1 0 1 0 1 1 1 1]\n",
      "267983\n"
     ]
    }
   ],
   "source": [
    "clean_labels = np.array(data[\"stars\"])\n",
    "print clean_labels[:10], clean_labels.shape\n",
    "clean_labels[clean_labels <= 3] = 0\n",
    "clean_labels[clean_labels > 3] = 1\n",
    "print clean_labels[:10]\n",
    "# num of positive reviews\n",
    "print (clean_labels == 1).sum()"
   ]
  },
  {
   "cell_type": "code",
   "execution_count": null,
   "metadata": {
    "collapsed": true
   },
   "outputs": [],
   "source": []
  }
 ],
 "metadata": {
  "kernelspec": {
   "display_name": "Python 2",
   "language": "python",
   "name": "python2"
  },
  "language_info": {
   "codemirror_mode": {
    "name": "ipython",
    "version": 2
   },
   "file_extension": ".py",
   "mimetype": "text/x-python",
   "name": "python",
   "nbconvert_exporter": "python",
   "pygments_lexer": "ipython2",
   "version": "2.7.10"
  }
 },
 "nbformat": 4,
 "nbformat_minor": 0
}
